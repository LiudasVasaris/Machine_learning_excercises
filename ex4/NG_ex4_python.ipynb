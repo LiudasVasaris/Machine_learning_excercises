{
 "cells": [
  {
   "cell_type": "code",
   "execution_count": 2,
   "metadata": {},
   "outputs": [],
   "source": [
    "import pandas as pd\n",
    "import numpy as np\n",
    "from scipy.io import loadmat\n",
    "import plotly.express as px\n",
    "import matplotlib.pyplot as plt\n",
    "import matplotlib.image as mpimg\n",
    "import tensorflow as tf\n",
    "from scipy.optimize import minimize\n",
    "from sklearn.model_selection import train_test_split"
   ]
  },
  {
   "cell_type": "code",
   "execution_count": 3,
   "metadata": {},
   "outputs": [],
   "source": [
    "data = loadmat('ex4data1.mat')"
   ]
  },
  {
   "cell_type": "code",
   "execution_count": 4,
   "metadata": {},
   "outputs": [],
   "source": [
    "X, y = data['X'].T, data['y'].T\n",
    "y[y==10] = 0 # set zeros equal to 0, not 10"
   ]
  },
  {
   "cell_type": "code",
   "execution_count": 5,
   "metadata": {},
   "outputs": [],
   "source": [
    "def one_hot(a):\n",
    "    \"\"\"One hot encode variable and return its transpose: k x M , k-features, M-examples\"\"\"\n",
    "    one_hot_encoded = np.zeros( (a.size, len(np.unique(a))) )\n",
    "    one_hot_encoded[np.arange(a.size), a] = 1\n",
    "    return one_hot_encoded.T"
   ]
  },
  {
   "cell_type": "code",
   "execution_count": 6,
   "metadata": {},
   "outputs": [],
   "source": [
    "# We need to one-hot encode our output to vector\n",
    "y_matrix = one_hot(y)"
   ]
  },
  {
   "cell_type": "code",
   "execution_count": 7,
   "metadata": {},
   "outputs": [],
   "source": [
    "input_layer_size  = 400  # 20x20 Input Images of Digits\n",
    "hidden_layer_size = 25   # 25 hidden units\n",
    "output_layer_size = 10          # 10 labels, from 0 to 9\n",
    "\n",
    "# Load the weights into variables Theta1 and Theta2\n",
    "weights = loadmat('ex4/ex4weights.mat')\n",
    "Theta1, Theta2 = weights['Theta1'], weights['Theta2']\n",
    "# swap first and last columns of Theta2, due to legacy from MATLAB indexing, \n",
    "# since the weight file ex3weights.mat was saved based on MATLAB indexing\n",
    "Theta2 = np.roll(Theta2, 1, axis=0)"
   ]
  },
  {
   "cell_type": "code",
   "execution_count": 8,
   "metadata": {},
   "outputs": [],
   "source": [
    "def sigmoid(z):\n",
    "    return 1 / (1 + np.exp(-z) )"
   ]
  },
  {
   "cell_type": "code",
   "execution_count": 9,
   "metadata": {},
   "outputs": [],
   "source": [
    "def sigmoid_grad(x):\n",
    "    return sigmoid(x) * (1 - sigmoid(x))"
   ]
  },
  {
   "cell_type": "markdown",
   "metadata": {},
   "source": [
    "### Note all shapes for easier coding:\n",
    "1. X - 400,5000\n",
    "1. y - 10,5000\n",
    "1. W1 - 25,400\n",
    "1. b1 - 25,1\n",
    "1. W2 - 10,25\n",
    "1. b2 - 10,1"
   ]
  },
  {
   "cell_type": "code",
   "execution_count": 10,
   "metadata": {},
   "outputs": [],
   "source": [
    "def forward_propagation(W1, b1, W2, b2, X):\n",
    "    \"\"\"feed forward nn. Returns of all layer values\"\"\"\n",
    "    a1 = X\n",
    "    a2 = W1@a1 + b1\n",
    "    z2 = sigmoid(a2)\n",
    "    a3 = W2@a2 + b2\n",
    "    z3 = sigmoid(a3)\n",
    "    return a1, a2, z2, a3, z3    "
   ]
  },
  {
   "cell_type": "code",
   "execution_count": 11,
   "metadata": {},
   "outputs": [],
   "source": [
    "def backwards_propagations(a1, a2, z2, a3, z3, W1, W2, y, lambda_=0):\n",
    "    \"\"\"backwards propogation of nn\"\"\"\n",
    "    m = y.shape[1]\n",
    "    dZ3 = z3 - y # We find how much we missed predictions by\n",
    "    \n",
    "    dW2 = 1/m * dZ3@(a2.T) + (lambda_/m)*W2 ## add the regularization term\n",
    "                           # We multiply how wrong our answers were(dZ3) by what values we got(a2),\n",
    "                           # and get the needed adjustment. If we want to regularize, we add the term\n",
    "    db2 = 1/m * np.sum(dZ3, 1) # We adjust the weight of bias based on average needed to account \n",
    "    db2 = np.reshape(db2,(db2.size,1)) # for wrong answers(dZ3). We also reshape to retain 2d matrix\n",
    "    dZ2 =  W2.T@dZ3 * sigmoid_grad(z2) # We back propagate final error by multiplying it with\n",
    "                                       # incoming weights to get second layer error and adjust with\n",
    "                                       # cost function derivative\n",
    "    # Other adjustments follow the same principle\n",
    "    dW1 = 1/m * dZ2@(a1.T) + (lambda_/m)*W1\n",
    "    db1 = 1/m * np.sum(dZ2, 1)\n",
    "    db1 = np.reshape(db1,(db1.size,1))         \n",
    "    return dW1, db1, dW2, db2"
   ]
  },
  {
   "cell_type": "code",
   "execution_count": 12,
   "metadata": {},
   "outputs": [],
   "source": [
    "def init_weights(matrix_shapes):\n",
    "    return [np.random.rand(i,j) for i,j in matrix_shapes]"
   ]
  },
  {
   "cell_type": "code",
   "execution_count": 13,
   "metadata": {},
   "outputs": [],
   "source": [
    "def update_weights(weights, weight_deltas, alpha):\n",
    "    return [w - wd*alpha for w, wd in zip(weights, weight_deltas)]"
   ]
  },
  {
   "cell_type": "code",
   "execution_count": 14,
   "metadata": {},
   "outputs": [],
   "source": [
    "def prediction(z3):\n",
    "    return np.argmax(z3,0)"
   ]
  },
  {
   "cell_type": "code",
   "execution_count": 15,
   "metadata": {},
   "outputs": [],
   "source": [
    "def calculate_accuracy(z3,y):\n",
    "    return np.sum(prediction(z3) == y) / y.size "
   ]
  },
  {
   "cell_type": "code",
   "execution_count": 16,
   "metadata": {},
   "outputs": [],
   "source": [
    "def return_wrong_example_mask(z3,y):\n",
    "    return prediction(z3) != y"
   ]
  },
  {
   "cell_type": "code",
   "execution_count": 17,
   "metadata": {},
   "outputs": [],
   "source": [
    "def gradient_descent(X,y, iterations, alpha=0.1, lambda_=0, X_test = None, y_test = None):\n",
    "    W1, b1, W2, b2 = init_weights([(hidden_layer_size, input_layer_size), (hidden_layer_size,1),\n",
    "                                  (output_layer_size,hidden_layer_size), (output_layer_size,1)])\n",
    "    y_one_hot = one_hot(y)\n",
    "    if X_test is not None and y_test is not None:\n",
    "        y_test_one_hot = one_hot(y_test)\n",
    "    \n",
    "    accuracy_hist = []\n",
    "    test_hist = []\n",
    "        \n",
    "    for i in range(iterations):\n",
    "        a1, a2, z2, a3, z3 = forward_propagation(W1, b1, W2, b2, X)\n",
    "        dW1, db1, dW2, db2 = backwards_propagations(a1, a2, z2, a3, z3, W1, W2, y_one_hot, lambda_)\n",
    "        W1, b1, W2, b2 = update_weights([W1, b1, W2, b2], [dW1, db1, dW2, db2], alpha)\n",
    "        \n",
    "        \n",
    "        if i%100==0:\n",
    "            print(f\"Iteration {i}, Train Accuracy: {calculate_accuracy(z3,y)}\")\n",
    "            accuracy_hist.append(calculate_accuracy(z3,y))\n",
    "            if X_test is not None and y_test is not None:\n",
    "                test_params = forward_propagation(W1, b1, W2, b2, X_test)\n",
    "                print(f\"Test Accuracy: {calculate_accuracy(test_params[4],y_test)}\")\n",
    "                test_hist.append(calculate_accuracy(test_params[4],y_test))\n",
    "            \n",
    "            \n",
    "    return W1, b1, W2, b2, [accuracy_hist,test_hist]"
   ]
  },
  {
   "cell_type": "code",
   "execution_count": 18,
   "metadata": {},
   "outputs": [],
   "source": [
    "def gradient_descent_w_cost_func(weights, X,y, alpha=0.1, lambda_=0):\n",
    "    epsilon = 1e-5\n",
    "    m = y.size\n",
    "    W1, b1, W2, b2 = unflatten_weights(weights)\n",
    "    y_one_hot = one_hot(y)\n",
    "    a1, a2, z2, a3, z3 = forward_propagation(W1, b1, W2, b2, X)\n",
    "    dW1, db1, dW2, db2 = backwards_propagations(a1, a2, z2, a3, z3,W1, W2, y_one_hot)\n",
    "    W1, b1, W2, b2 = update_weights([W1, b1, W2, b2], [dW1, db1, dW2, db2], alpha)\n",
    "    reg_term = lambda_/(2*m) * ( np.sum(np.square(W1)) + np.sum(np.square(W2)) )\n",
    "\n",
    "    J = (-1 / m) * np.sum( (np.log(z3+epsilon) * y_one_hot) + np.log(1 - z3+epsilon) * (1 - y_one_hot) ) + reg_term\n",
    "    return J, np.concatenate([w.flatten() for w in [W1, b1, W2, b2]])"
   ]
  },
  {
   "cell_type": "code",
   "execution_count": 19,
   "metadata": {},
   "outputs": [],
   "source": [
    "def unflatten_weights(flat_W):\n",
    "    temp_w = flat_W[:input_layer_size*hidden_layer_size]\n",
    "    W1 = np.reshape(temp_w,(hidden_layer_size,input_layer_size))\n",
    "    temp_w =  flat_W[input_layer_size*hidden_layer_size:]\n",
    "    b1 = np.reshape(temp_w[:hidden_layer_size],(hidden_layer_size,1))\n",
    "    temp_w =  temp_w[hidden_layer_size:]\n",
    "    W2 = np.reshape(temp_w[:hidden_layer_size*output_layer_size],(output_layer_size,hidden_layer_size))\n",
    "    temp_w = temp_w[hidden_layer_size*output_layer_size:]\n",
    "    b2 = np.reshape(temp_w[:output_layer_size],(output_layer_size,1))\n",
    "    \n",
    "    return W1, b1, W2, b2\n",
    "    "
   ]
  },
  {
   "cell_type": "code",
   "execution_count": 20,
   "metadata": {
    "scrolled": true
   },
   "outputs": [],
   "source": [
    "start_weights = init_weights([(hidden_layer_size, input_layer_size), (hidden_layer_size,1),\n",
    "                                  (output_layer_size,hidden_layer_size), (output_layer_size,1)])\n",
    "flat_weights = np.concatenate([w.flatten() for w in start_weights])"
   ]
  },
  {
   "cell_type": "code",
   "execution_count": 21,
   "metadata": {
    "scrolled": true
   },
   "outputs": [],
   "source": [
    "X_train, X_test, y_train, y_test = [samp.T for samp in train_test_split(X.T, y.T, test_size=0.2)]"
   ]
  },
  {
   "cell_type": "code",
   "execution_count": 22,
   "metadata": {},
   "outputs": [],
   "source": [
    "options= {'maxiter': 2000}\n",
    "lambda_gd = lambda w : gradient_descent_w_cost_func(w, X_train, y_train)\n",
    "res = minimize(lambda_gd,\n",
    "                        flat_weights,\n",
    "                        jac=True,\n",
    "                        method='TNC',\n",
    "                        options=options)\n",
    "\n",
    "nn_params = res.x\n",
    "        \n",
    "# Obtain Theta1 and Theta2 back from nn_params\n",
    "weights_fin = nn_params\n",
    "tained_weights_cost = unflatten_weights(weights_fin)"
   ]
  },
  {
   "cell_type": "code",
   "execution_count": null,
   "metadata": {
    "scrolled": true
   },
   "outputs": [
    {
     "name": "stdout",
     "output_type": "stream",
     "text": [
      "Iteration 0, Train Accuracy: 0.1\n",
      "Test Accuracy: 0.105\n"
     ]
    },
    {
     "name": "stderr",
     "output_type": "stream",
     "text": [
      "<ipython-input-8-7b358eb7760f>:2: RuntimeWarning: overflow encountered in exp\n",
      "  return 1 / (1 + np.exp(-z) )\n"
     ]
    },
    {
     "name": "stdout",
     "output_type": "stream",
     "text": [
      "Iteration 100, Train Accuracy: 0.4795\n",
      "Test Accuracy: 0.479\n",
      "Iteration 200, Train Accuracy: 0.66425\n",
      "Test Accuracy: 0.633\n",
      "Iteration 300, Train Accuracy: 0.797\n",
      "Test Accuracy: 0.716\n",
      "Iteration 400, Train Accuracy: 0.83325\n",
      "Test Accuracy: 0.786\n",
      "Iteration 500, Train Accuracy: 0.8455\n",
      "Test Accuracy: 0.796\n",
      "Iteration 600, Train Accuracy: 0.856\n",
      "Test Accuracy: 0.801\n",
      "Iteration 700, Train Accuracy: 0.85875\n",
      "Test Accuracy: 0.83\n",
      "Iteration 800, Train Accuracy: 0.8685\n",
      "Test Accuracy: 0.846\n",
      "Iteration 900, Train Accuracy: 0.87025\n",
      "Test Accuracy: 0.85\n",
      "Iteration 1000, Train Accuracy: 0.8745\n",
      "Test Accuracy: 0.854\n",
      "Iteration 1100, Train Accuracy: 0.87875\n",
      "Test Accuracy: 0.859\n",
      "Iteration 1200, Train Accuracy: 0.8835\n",
      "Test Accuracy: 0.865\n",
      "Iteration 1300, Train Accuracy: 0.88725\n",
      "Test Accuracy: 0.867\n",
      "Iteration 1400, Train Accuracy: 0.88975\n",
      "Test Accuracy: 0.872\n",
      "Iteration 1500, Train Accuracy: 0.892\n",
      "Test Accuracy: 0.873\n",
      "Iteration 1600, Train Accuracy: 0.89625\n",
      "Test Accuracy: 0.876\n",
      "Iteration 1700, Train Accuracy: 0.89775\n",
      "Test Accuracy: 0.878\n",
      "Iteration 1800, Train Accuracy: 0.89975\n",
      "Test Accuracy: 0.881\n",
      "Iteration 1900, Train Accuracy: 0.902\n",
      "Test Accuracy: 0.881\n",
      "Iteration 2000, Train Accuracy: 0.904\n",
      "Test Accuracy: 0.883\n",
      "Iteration 2100, Train Accuracy: 0.9055\n",
      "Test Accuracy: 0.883\n",
      "Iteration 2200, Train Accuracy: 0.9075\n",
      "Test Accuracy: 0.886\n",
      "Iteration 2300, Train Accuracy: 0.90925\n",
      "Test Accuracy: 0.885\n",
      "Iteration 2400, Train Accuracy: 0.91\n",
      "Test Accuracy: 0.886\n",
      "Iteration 2500, Train Accuracy: 0.911\n",
      "Test Accuracy: 0.886\n",
      "Iteration 2600, Train Accuracy: 0.91375\n",
      "Test Accuracy: 0.885\n",
      "Iteration 2700, Train Accuracy: 0.91525\n",
      "Test Accuracy: 0.886\n",
      "Iteration 2800, Train Accuracy: 0.916\n",
      "Test Accuracy: 0.886\n",
      "Iteration 2900, Train Accuracy: 0.91675\n",
      "Test Accuracy: 0.887\n",
      "Iteration 3000, Train Accuracy: 0.918\n",
      "Test Accuracy: 0.889\n",
      "Iteration 3100, Train Accuracy: 0.91875\n",
      "Test Accuracy: 0.89\n",
      "Iteration 3200, Train Accuracy: 0.9195\n",
      "Test Accuracy: 0.888\n",
      "Iteration 3300, Train Accuracy: 0.92025\n",
      "Test Accuracy: 0.89\n",
      "Iteration 3400, Train Accuracy: 0.92075\n",
      "Test Accuracy: 0.891\n",
      "Iteration 3500, Train Accuracy: 0.921\n",
      "Test Accuracy: 0.892\n",
      "Iteration 3600, Train Accuracy: 0.9215\n",
      "Test Accuracy: 0.892\n",
      "Iteration 3700, Train Accuracy: 0.9225\n",
      "Test Accuracy: 0.892\n",
      "Iteration 3800, Train Accuracy: 0.9225\n",
      "Test Accuracy: 0.892\n",
      "Iteration 3900, Train Accuracy: 0.9225\n",
      "Test Accuracy: 0.892\n",
      "Iteration 4000, Train Accuracy: 0.92375\n",
      "Test Accuracy: 0.892\n",
      "Iteration 4100, Train Accuracy: 0.92325\n",
      "Test Accuracy: 0.891\n",
      "Iteration 4200, Train Accuracy: 0.92475\n",
      "Test Accuracy: 0.891\n",
      "Iteration 4300, Train Accuracy: 0.92525\n",
      "Test Accuracy: 0.893\n",
      "Iteration 4400, Train Accuracy: 0.92525\n",
      "Test Accuracy: 0.893\n",
      "Iteration 4500, Train Accuracy: 0.926\n",
      "Test Accuracy: 0.894\n",
      "Iteration 4600, Train Accuracy: 0.92725\n",
      "Test Accuracy: 0.894\n",
      "Iteration 4700, Train Accuracy: 0.92825\n",
      "Test Accuracy: 0.895\n",
      "Iteration 4800, Train Accuracy: 0.92875\n",
      "Test Accuracy: 0.896\n",
      "Iteration 4900, Train Accuracy: 0.92925\n",
      "Test Accuracy: 0.896\n",
      "Iteration 5000, Train Accuracy: 0.92925\n",
      "Test Accuracy: 0.897\n",
      "Iteration 5100, Train Accuracy: 0.9305\n",
      "Test Accuracy: 0.897\n",
      "Iteration 5200, Train Accuracy: 0.93025\n",
      "Test Accuracy: 0.896\n",
      "Iteration 5300, Train Accuracy: 0.93075\n",
      "Test Accuracy: 0.895\n",
      "Iteration 5400, Train Accuracy: 0.9315\n",
      "Test Accuracy: 0.895\n",
      "Iteration 5500, Train Accuracy: 0.93175\n",
      "Test Accuracy: 0.895\n",
      "Iteration 5600, Train Accuracy: 0.932\n",
      "Test Accuracy: 0.895\n",
      "Iteration 5700, Train Accuracy: 0.93175\n",
      "Test Accuracy: 0.895\n",
      "Iteration 5800, Train Accuracy: 0.93225\n",
      "Test Accuracy: 0.895\n",
      "Iteration 5900, Train Accuracy: 0.93275\n",
      "Test Accuracy: 0.895\n",
      "Iteration 6000, Train Accuracy: 0.933\n",
      "Test Accuracy: 0.895\n",
      "Iteration 6100, Train Accuracy: 0.933\n",
      "Test Accuracy: 0.895\n",
      "Iteration 6200, Train Accuracy: 0.9335\n",
      "Test Accuracy: 0.895\n",
      "Iteration 6300, Train Accuracy: 0.9345\n",
      "Test Accuracy: 0.895\n",
      "Iteration 6400, Train Accuracy: 0.935\n",
      "Test Accuracy: 0.895\n",
      "Iteration 6500, Train Accuracy: 0.93525\n",
      "Test Accuracy: 0.895\n",
      "Iteration 6600, Train Accuracy: 0.935\n",
      "Test Accuracy: 0.895\n",
      "Iteration 6700, Train Accuracy: 0.93575\n",
      "Test Accuracy: 0.896\n",
      "Iteration 6800, Train Accuracy: 0.93575\n",
      "Test Accuracy: 0.896\n",
      "Iteration 6900, Train Accuracy: 0.93625\n",
      "Test Accuracy: 0.896\n",
      "Iteration 7000, Train Accuracy: 0.93625\n",
      "Test Accuracy: 0.896\n",
      "Iteration 7100, Train Accuracy: 0.93625\n",
      "Test Accuracy: 0.897\n",
      "Iteration 7200, Train Accuracy: 0.93625\n",
      "Test Accuracy: 0.897\n",
      "Iteration 7300, Train Accuracy: 0.93625\n",
      "Test Accuracy: 0.896\n",
      "Iteration 7400, Train Accuracy: 0.9365\n",
      "Test Accuracy: 0.896\n",
      "Iteration 7500, Train Accuracy: 0.9365\n",
      "Test Accuracy: 0.896\n",
      "Iteration 7600, Train Accuracy: 0.9365\n",
      "Test Accuracy: 0.896\n",
      "Iteration 7700, Train Accuracy: 0.93675\n",
      "Test Accuracy: 0.897\n",
      "Iteration 7800, Train Accuracy: 0.93725\n",
      "Test Accuracy: 0.898\n",
      "Iteration 7900, Train Accuracy: 0.9375\n",
      "Test Accuracy: 0.898\n",
      "Iteration 8000, Train Accuracy: 0.93725\n",
      "Test Accuracy: 0.898\n",
      "Iteration 8100, Train Accuracy: 0.9375\n",
      "Test Accuracy: 0.899\n",
      "Iteration 8200, Train Accuracy: 0.9375\n",
      "Test Accuracy: 0.9\n",
      "Iteration 8300, Train Accuracy: 0.9375\n",
      "Test Accuracy: 0.899\n",
      "Iteration 8400, Train Accuracy: 0.9375\n",
      "Test Accuracy: 0.9\n",
      "Iteration 8500, Train Accuracy: 0.93775\n",
      "Test Accuracy: 0.9\n",
      "Iteration 8600, Train Accuracy: 0.93825\n",
      "Test Accuracy: 0.9\n",
      "Iteration 8700, Train Accuracy: 0.93825\n",
      "Test Accuracy: 0.9\n",
      "Iteration 8800, Train Accuracy: 0.93875\n",
      "Test Accuracy: 0.9\n",
      "Iteration 8900, Train Accuracy: 0.9395\n",
      "Test Accuracy: 0.9\n",
      "Iteration 9000, Train Accuracy: 0.94\n",
      "Test Accuracy: 0.9\n",
      "Iteration 9100, Train Accuracy: 0.94025\n",
      "Test Accuracy: 0.9\n",
      "Iteration 9200, Train Accuracy: 0.94025\n",
      "Test Accuracy: 0.9\n",
      "Iteration 9300, Train Accuracy: 0.9405\n",
      "Test Accuracy: 0.9\n",
      "Iteration 9400, Train Accuracy: 0.94075\n",
      "Test Accuracy: 0.9\n",
      "Iteration 9500, Train Accuracy: 0.9405\n",
      "Test Accuracy: 0.899\n",
      "Iteration 9600, Train Accuracy: 0.9405\n",
      "Test Accuracy: 0.899\n",
      "Iteration 9700, Train Accuracy: 0.94025\n",
      "Test Accuracy: 0.899\n",
      "Iteration 9800, Train Accuracy: 0.94025\n",
      "Test Accuracy: 0.899\n",
      "Iteration 9900, Train Accuracy: 0.9405\n",
      "Test Accuracy: 0.899\n",
      "------------------------\n",
      "Iteration 0, Train Accuracy: 0.1\n",
      "Test Accuracy: 0.1\n",
      "Iteration 100, Train Accuracy: 0.43175\n",
      "Test Accuracy: 0.345\n",
      "Iteration 200, Train Accuracy: 0.70275\n",
      "Test Accuracy: 0.63\n",
      "Iteration 300, Train Accuracy: 0.792\n",
      "Test Accuracy: 0.753\n",
      "Iteration 400, Train Accuracy: 0.78125\n",
      "Test Accuracy: 0.804\n",
      "Iteration 500, Train Accuracy: 0.8265\n",
      "Test Accuracy: 0.789\n",
      "Iteration 600, Train Accuracy: 0.83425\n",
      "Test Accuracy: 0.813\n",
      "Iteration 700, Train Accuracy: 0.85125\n",
      "Test Accuracy: 0.842\n",
      "Iteration 800, Train Accuracy: 0.8585\n",
      "Test Accuracy: 0.85\n",
      "Iteration 900, Train Accuracy: 0.864\n",
      "Test Accuracy: 0.855\n",
      "Iteration 1000, Train Accuracy: 0.86975\n",
      "Test Accuracy: 0.859\n",
      "Iteration 1100, Train Accuracy: 0.874\n",
      "Test Accuracy: 0.867\n",
      "Iteration 1200, Train Accuracy: 0.87925\n",
      "Test Accuracy: 0.87\n",
      "Iteration 1300, Train Accuracy: 0.8835\n",
      "Test Accuracy: 0.873\n",
      "Iteration 1400, Train Accuracy: 0.8865\n",
      "Test Accuracy: 0.876\n",
      "Iteration 1500, Train Accuracy: 0.8895\n",
      "Test Accuracy: 0.88\n",
      "Iteration 1600, Train Accuracy: 0.89175\n",
      "Test Accuracy: 0.881\n",
      "Iteration 1700, Train Accuracy: 0.89425\n",
      "Test Accuracy: 0.882\n",
      "Iteration 1800, Train Accuracy: 0.897\n",
      "Test Accuracy: 0.881\n",
      "Iteration 1900, Train Accuracy: 0.901\n",
      "Test Accuracy: 0.882\n",
      "Iteration 2000, Train Accuracy: 0.90275\n",
      "Test Accuracy: 0.882\n",
      "Iteration 2100, Train Accuracy: 0.904\n",
      "Test Accuracy: 0.883\n",
      "Iteration 2200, Train Accuracy: 0.9045\n",
      "Test Accuracy: 0.884\n",
      "Iteration 2300, Train Accuracy: 0.90675\n",
      "Test Accuracy: 0.885\n",
      "Iteration 2400, Train Accuracy: 0.90775\n",
      "Test Accuracy: 0.885\n",
      "Iteration 2500, Train Accuracy: 0.9095\n",
      "Test Accuracy: 0.886\n",
      "Iteration 2600, Train Accuracy: 0.90925\n",
      "Test Accuracy: 0.889\n",
      "Iteration 2700, Train Accuracy: 0.91025\n",
      "Test Accuracy: 0.888\n",
      "Iteration 2800, Train Accuracy: 0.9115\n",
      "Test Accuracy: 0.888\n"
     ]
    }
   ],
   "source": [
    "tained_weights_and_history = gradient_descent(X_train,y_train,10000,0.1,0,X_test,y_test)\n",
    "print('------------------------')\n",
    "tained_weights_and_history_regularized = gradient_descent(X_train,y_train,10000,0.1,1,X_test,y_test)"
   ]
  },
  {
   "cell_type": "code",
   "execution_count": null,
   "metadata": {},
   "outputs": [],
   "source": [
    "# Trained with minimization from Sci-kit and cost function\n",
    "# prediction_1 = forward_propagation(*tained_weights_cost,X_test)\n",
    "# accuracy_1 = calculate_accuracy(prediction_1[4],y_test)\n",
    "# print(f\"Model trained with minimization scored {accuracy_1} on test set\")\n",
    "# For some reasone it does not work\n",
    "*trained_weight_1, history_of_accuracy_1 = tained_weights_and_history\n",
    "prediction_1 = forward_propagation(*trained_weight_1,X_test)\n",
    "accuracy_1 = calculate_accuracy(prediction_1[4],y_test)\n",
    "print(f\"Model trained with manual gradient descent {accuracy_1} on test set\")\n",
    "*trained_weight_2, history_of_accuracy_2 = tained_weights_and_history_regularized\n",
    "prediction_2 = forward_propagation(*trained_weight_2,X_test)\n",
    "accuracy_2= calculate_accuracy(prediction_2[4],y_test)\n",
    "print(f\"Model trained with manual gradient descent and regularization {accuracy_1} on test set\")"
   ]
  },
  {
   "cell_type": "code",
   "execution_count": null,
   "metadata": {},
   "outputs": [],
   "source": [
    "plt.plot(history_of_accuracy[0])\n",
    "plt.plot(history_of_accuracy[1])"
   ]
  },
  {
   "cell_type": "markdown",
   "metadata": {},
   "source": [
    "We see a high accuracy and no decrease in validation(test) set after any number of itterations, thus we can conclude, that the model is propperly trained and does not overfit"
   ]
  },
  {
   "cell_type": "markdown",
   "metadata": {},
   "source": [
    "Lets look at the examples the model fails to predict"
   ]
  },
  {
   "cell_type": "code",
   "execution_count": 142,
   "metadata": {},
   "outputs": [],
   "source": [
    "wrong_examples = return_wrong_example_mask(prediction_1[4],y_test)"
   ]
  },
  {
   "cell_type": "code",
   "execution_count": 163,
   "metadata": {},
   "outputs": [],
   "source": [
    "wrong_prediction_input = X_test[:,wrong_examples.reshape(-1)].T\n",
    "wrong_prediction_output = y_test[:,wrong_examples.reshape(-1)].T"
   ]
  },
  {
   "cell_type": "code",
   "execution_count": 202,
   "metadata": {},
   "outputs": [],
   "source": [
    "def see_prediction(i, o):\n",
    "    sample = np.random.randint(low=0, high=len(o))\n",
    "    i_samp, o_samp = i[sample], o[sample]\n",
    "    example = np.reshape(i_samp,(20,20))\n",
    "    plt.imshow(example)\n",
    "    print(o_samp)"
   ]
  },
  {
   "cell_type": "code",
   "execution_count": 208,
   "metadata": {},
   "outputs": [
    {
     "name": "stdout",
     "output_type": "stream",
     "text": [
      "[9]\n"
     ]
    },
    {
     "data": {
      "image/png": "[encoded data removed]",
      "text/plain": [
       "<Figure size 432x288 with 1 Axes>"
      ]
     },
     "metadata": {
      "needs_background": "light"
     },
     "output_type": "display_data"
    }
   ],
   "source": [
    "see_prediction(wrong_prediction_input,wrong_prediction_output)"
   ]
  },
  {
   "cell_type": "markdown",
   "metadata": {},
   "source": [
    "Looking at some examples, we can clearly see that not even a human could verify that the written number corresponds to the actual value\n",
    "\n",
    "We either have incorrect labels for some examples or corrupt dataset"
   ]
  },
  {
   "cell_type": "code",
   "execution_count": null,
   "metadata": {},
   "outputs": [],
   "source": []
  }
 ],
 "metadata": {
  "kernelspec": {
   "display_name": "Python 3",
   "language": "python",
   "name": "python3"
  },
  "language_info": {
   "codemirror_mode": {
    "name": "ipython",
    "version": 3
   },
   "file_extension": ".py",
   "mimetype": "text/x-python",
   "name": "python",
   "nbconvert_exporter": "python",
   "pygments_lexer": "ipython3",
   "version": "3.8.5"
  }
 },
 "nbformat": 4,
 "nbformat_minor": 4
}
