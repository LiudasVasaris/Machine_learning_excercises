{
 "cells": [
  {
   "cell_type": "code",
   "execution_count": 9,
   "metadata": {},
   "outputs": [],
   "source": [
    "import pandas as pd\n",
    "import numpy as np\n",
    "from scipy.io import loadmat\n",
    "import plotly.express as px\n",
    "import matplotlib.pyplot as plt\n",
    "import matplotlib.image as mpimg\n",
    "import tensorflow as tf"
   ]
  },
  {
   "cell_type": "code",
   "execution_count": 10,
   "metadata": {},
   "outputs": [],
   "source": [
    "data = loadmat('ex3data1.mat')"
   ]
  },
  {
   "cell_type": "code",
   "execution_count": 11,
   "metadata": {},
   "outputs": [
    {
     "data": {
      "image/png": "[encoded data removed]",
      "text/plain": [
       "<Figure size 432x288 with 1 Axes>"
      ]
     },
     "metadata": {
      "needs_background": "light"
     },
     "output_type": "display_data"
    }
   ],
   "source": [
    "sample = data['X'][np.random.randint(len(data['X']))].reshape(20,20).T\n",
    "imgplot = plt.imshow(sample)"
   ]
  },
  {
   "cell_type": "code",
   "execution_count": 12,
   "metadata": {},
   "outputs": [],
   "source": [
    "X = data['X']\n",
    "y = np.where(data['y'] == 10, 0, data['y']) # set representation of zero back to value 0 from 10"
   ]
  },
  {
   "cell_type": "code",
   "execution_count": 13,
   "metadata": {},
   "outputs": [],
   "source": [
    "model = tf.keras.Sequential([\n",
    "    tf.keras.layers.Dense(400),\n",
    "    tf.keras.layers.Dense(400, activation='sigmoid'),\n",
    "    tf.keras.layers.Dense(10, activation='sigmoid')\n",
    "])"
   ]
  },
  {
   "cell_type": "code",
   "execution_count": 14,
   "metadata": {},
   "outputs": [],
   "source": [
    "model.compile(optimizer='adam',\n",
    "              loss=tf.keras.losses.SparseCategoricalCrossentropy(from_logits=True),\n",
    "              metrics=['accuracy'])"
   ]
  },
  {
   "cell_type": "code",
   "execution_count": 15,
   "metadata": {},
   "outputs": [
    {
     "name": "stdout",
     "output_type": "stream",
     "text": [
      "Epoch 1/10\n",
      "157/157 [==============================] - 0s 2ms/step - loss: 1.7550 - accuracy: 0.7800\n",
      "Epoch 2/10\n",
      "157/157 [==============================] - 0s 2ms/step - loss: 1.5836 - accuracy: 0.9020\n",
      "Epoch 3/10\n",
      "157/157 [==============================] - 0s 2ms/step - loss: 1.5519 - accuracy: 0.9220\n",
      "Epoch 4/10\n",
      "157/157 [==============================] - 0s 2ms/step - loss: 1.5385 - accuracy: 0.9300\n",
      "Epoch 5/10\n",
      "157/157 [==============================] - 0s 2ms/step - loss: 1.5277 - accuracy: 0.9366\n",
      "Epoch 6/10\n",
      "157/157 [==============================] - 0s 2ms/step - loss: 1.5219 - accuracy: 0.9422\n",
      "Epoch 7/10\n",
      "157/157 [==============================] - 0s 2ms/step - loss: 1.5153 - accuracy: 0.9472\n",
      "Epoch 8/10\n",
      "157/157 [==============================] - 0s 2ms/step - loss: 1.5099 - accuracy: 0.9522\n",
      "Epoch 9/10\n",
      "157/157 [==============================] - 0s 2ms/step - loss: 1.5064 - accuracy: 0.9528\n",
      "Epoch 10/10\n",
      "157/157 [==============================] - 0s 2ms/step - loss: 1.5026 - accuracy: 0.9594\n"
     ]
    },
    {
     "data": {
      "text/plain": [
       "<tensorflow.python.keras.callbacks.History at 0x1e1ee580e20>"
      ]
     },
     "execution_count": 15,
     "metadata": {},
     "output_type": "execute_result"
    }
   ],
   "source": [
    "model.fit(X, y, epochs=10)"
   ]
  },
  {
   "cell_type": "code",
   "execution_count": 16,
   "metadata": {},
   "outputs": [
    {
     "name": "stdout",
     "output_type": "stream",
     "text": [
      "157/157 - 0s - loss: 1.4993 - accuracy: 0.9630\n",
      "\n",
      "Test accuracy: 0.96\n"
     ]
    }
   ],
   "source": [
    "test_loss, test_acc = model.evaluate(X, y, verbose=2)\n",
    "\n",
    "print('\\nTest accuracy:', round(test_acc,2))"
   ]
  },
  {
   "cell_type": "code",
   "execution_count": 23,
   "metadata": {},
   "outputs": [],
   "source": [
    "predictions = model.predict(X)"
   ]
  },
  {
   "cell_type": "code",
   "execution_count": 35,
   "metadata": {},
   "outputs": [
    {
     "data": {
      "text/plain": [
       "<BarContainer object of 10 artists>"
      ]
     },
     "execution_count": 35,
     "metadata": {},
     "output_type": "execute_result"
    },
    {
     "data": {
      "image/png": "[encoded data removed]",
      "text/plain": [
       "<Figure size 432x288 with 1 Axes>"
      ]
     },
     "metadata": {
      "needs_background": "light"
     },
     "output_type": "display_data"
    }
   ],
   "source": [
    "plt.bar(range(10),predictions[0])"
   ]
  },
  {
   "cell_type": "code",
   "execution_count": null,
   "metadata": {},
   "outputs": [],
   "source": []
  }
 ],
 "metadata": {
  "kernelspec": {
   "display_name": "Python 3",
   "language": "python",
   "name": "python3"
  },
  "language_info": {
   "codemirror_mode": {
    "name": "ipython",
    "version": 3
   },
   "file_extension": ".py",
   "mimetype": "text/x-python",
   "name": "python",
   "nbconvert_exporter": "python",
   "pygments_lexer": "ipython3",
   "version": "3.8.5"
  }
 },
 "nbformat": 4,
 "nbformat_minor": 4
}
