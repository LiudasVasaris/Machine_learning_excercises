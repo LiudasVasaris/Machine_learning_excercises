{
 "cells": [
  {
   "cell_type": "code",
   "execution_count": 1,
   "metadata": {
    "ExecuteTime": {
     "end_time": "2022-01-14T15:58:52.265364Z",
     "start_time": "2022-01-14T15:58:48.726048Z"
    }
   },
   "outputs": [],
   "source": [
    "import pandas as pd\n",
    "import numpy as np\n",
    "from scipy.io import loadmat\n",
    "import plotly.express as px\n",
    "import matplotlib.pyplot as plt\n",
    "import matplotlib.image as mpimg\n",
    "import tensorflow as tf"
   ]
  },
  {
   "cell_type": "code",
   "execution_count": 2,
   "metadata": {
    "ExecuteTime": {
     "end_time": "2022-01-14T15:58:52.359224Z",
     "start_time": "2022-01-14T15:58:52.285362Z"
    }
   },
   "outputs": [],
   "source": [
    "data = loadmat('ex3/ex3data1.mat')"
   ]
  },
  {
   "cell_type": "code",
   "execution_count": 3,
   "metadata": {
    "ExecuteTime": {
     "end_time": "2022-01-14T15:58:52.485913Z",
     "start_time": "2022-01-14T15:58:52.375792Z"
    }
   },
   "outputs": [
    {
     "data": {
      "image/png": "[encoded data removed]",
      "text/plain": [
       "<Figure size 432x288 with 1 Axes>"
      ]
     },
     "metadata": {
      "needs_background": "light"
     },
     "output_type": "display_data"
    }
   ],
   "source": [
    "sample = data['X'][np.random.randint(len(data['X']))].reshape(20,20).T\n",
    "imgplot = plt.imshow(sample)"
   ]
  },
  {
   "cell_type": "code",
   "execution_count": 4,
   "metadata": {
    "ExecuteTime": {
     "end_time": "2022-01-14T15:58:52.517250Z",
     "start_time": "2022-01-14T15:58:52.502923Z"
    }
   },
   "outputs": [],
   "source": [
    "X = data['X']\n",
    "y = np.where(data['y'] == 10, 0, data['y']) # set representation of zero back to value 0 from 10"
   ]
  },
  {
   "cell_type": "code",
   "execution_count": 5,
   "metadata": {
    "ExecuteTime": {
     "end_time": "2022-01-14T15:58:52.580321Z",
     "start_time": "2022-01-14T15:58:52.536237Z"
    }
   },
   "outputs": [],
   "source": [
    "model = tf.keras.Sequential([\n",
    "    tf.keras.layers.Dense(400),\n",
    "    tf.keras.layers.Dense(400, activation='sigmoid'),\n",
    "    tf.keras.layers.Dense(10, activation='sigmoid')\n",
    "])"
   ]
  },
  {
   "cell_type": "code",
   "execution_count": 6,
   "metadata": {
    "ExecuteTime": {
     "end_time": "2022-01-14T15:58:52.611355Z",
     "start_time": "2022-01-14T15:58:52.597322Z"
    }
   },
   "outputs": [],
   "source": [
    "model.compile(optimizer='adam',\n",
    "              loss=tf.keras.losses.SparseCategoricalCrossentropy(from_logits=True),\n",
    "              metrics=['accuracy'])"
   ]
  },
  {
   "cell_type": "code",
   "execution_count": 7,
   "metadata": {
    "ExecuteTime": {
     "end_time": "2022-01-14T15:58:55.454823Z",
     "start_time": "2022-01-14T15:58:52.628360Z"
    }
   },
   "outputs": [
    {
     "name": "stdout",
     "output_type": "stream",
     "text": [
      "Epoch 1/10\n",
      "157/157 [==============================] - 0s 1ms/step - loss: 1.7566 - accuracy: 0.7866\n",
      "Epoch 2/10\n",
      "157/157 [==============================] - 0s 1ms/step - loss: 1.5824 - accuracy: 0.9038\n",
      "Epoch 3/10\n",
      "157/157 [==============================] - 0s 1ms/step - loss: 1.5520 - accuracy: 0.9238\n",
      "Epoch 4/10\n",
      "157/157 [==============================] - 0s 1ms/step - loss: 1.5384 - accuracy: 0.9302\n",
      "Epoch 5/10\n",
      "157/157 [==============================] - 0s 1ms/step - loss: 1.5277 - accuracy: 0.9370\n",
      "Epoch 6/10\n",
      "157/157 [==============================] - 0s 2ms/step - loss: 1.5203 - accuracy: 0.9444\n",
      "Epoch 7/10\n",
      "157/157 [==============================] - 0s 1ms/step - loss: 1.5146 - accuracy: 0.9488\n",
      "Epoch 8/10\n",
      "157/157 [==============================] - 0s 1ms/step - loss: 1.5100 - accuracy: 0.9516\n",
      "Epoch 9/10\n",
      "157/157 [==============================] - 0s 1ms/step - loss: 1.5058 - accuracy: 0.9568\n",
      "Epoch 10/10\n",
      "157/157 [==============================] - 0s 1ms/step - loss: 1.5031 - accuracy: 0.9578\n"
     ]
    },
    {
     "data": {
      "text/plain": [
       "<tensorflow.python.keras.callbacks.History at 0x25313254eb0>"
      ]
     },
     "execution_count": 7,
     "metadata": {},
     "output_type": "execute_result"
    }
   ],
   "source": [
    "model.fit(X, y, epochs=10)"
   ]
  },
  {
   "cell_type": "code",
   "execution_count": 8,
   "metadata": {
    "ExecuteTime": {
     "end_time": "2022-01-14T15:58:55.708878Z",
     "start_time": "2022-01-14T15:58:55.471827Z"
    }
   },
   "outputs": [
    {
     "name": "stdout",
     "output_type": "stream",
     "text": [
      "157/157 - 0s - loss: 1.4966 - accuracy: 0.9662\n",
      "\n",
      "Test accuracy: 0.97\n"
     ]
    }
   ],
   "source": [
    "test_loss, test_acc = model.evaluate(X, y, verbose=2)\n",
    "\n",
    "print('\\nTest accuracy:', round(test_acc,2))"
   ]
  },
  {
   "cell_type": "code",
   "execution_count": 9,
   "metadata": {
    "ExecuteTime": {
     "end_time": "2022-01-14T15:58:55.947437Z",
     "start_time": "2022-01-14T15:58:55.774967Z"
    }
   },
   "outputs": [],
   "source": [
    "predictions = model.predict(X)"
   ]
  },
  {
   "cell_type": "code",
   "execution_count": 10,
   "metadata": {
    "ExecuteTime": {
     "end_time": "2022-01-14T15:58:56.075466Z",
     "start_time": "2022-01-14T15:58:55.981443Z"
    }
   },
   "outputs": [
    {
     "data": {
      "text/plain": [
       "<BarContainer object of 10 artists>"
      ]
     },
     "execution_count": 10,
     "metadata": {},
     "output_type": "execute_result"
    },
    {
     "data": {
      "image/png": "[encoded data removed]",
      "text/plain": [
       "<Figure size 432x288 with 1 Axes>"
      ]
     },
     "metadata": {
      "needs_background": "light"
     },
     "output_type": "display_data"
    }
   ],
   "source": [
    "plt.bar(range(10),predictions[0])"
   ]
  }
 ],
 "metadata": {
  "kernelspec": {
   "display_name": "Python 3 (ipykernel)",
   "language": "python",
   "name": "python3"
  },
  "language_info": {
   "codemirror_mode": {
    "name": "ipython",
    "version": 3
   },
   "file_extension": ".py",
   "mimetype": "text/x-python",
   "name": "python",
   "nbconvert_exporter": "python",
   "pygments_lexer": "ipython3",
   "version": "3.8.5"
  },
  "varInspector": {
   "cols": {
    "lenName": 16,
    "lenType": 16,
    "lenVar": 40
   },
   "kernels_config": {
    "python": {
     "delete_cmd_postfix": "",
     "delete_cmd_prefix": "del ",
     "library": "var_list.py",
     "varRefreshCmd": "print(var_dic_list())"
    },
    "r": {
     "delete_cmd_postfix": ") ",
     "delete_cmd_prefix": "rm(",
     "library": "var_list.r",
     "varRefreshCmd": "cat(var_dic_list()) "
    }
   },
   "types_to_exclude": [
    "module",
    "function",
    "builtin_function_or_method",
    "instance",
    "_Feature"
   ],
   "window_display": false
  }
 },
 "nbformat": 4,
 "nbformat_minor": 4
}
